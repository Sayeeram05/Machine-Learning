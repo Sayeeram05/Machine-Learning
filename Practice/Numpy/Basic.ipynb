{
 "cells": [
  {
   "cell_type": "code",
   "execution_count": 24,
   "id": "37250506-68f8-4557-a4be-1672da4e4817",
   "metadata": {},
   "outputs": [],
   "source": [
    "import numpy as np"
   ]
  },
  {
   "cell_type": "markdown",
   "id": "0cd5f5b6-1329-43b9-a654-5cc04e99c6ef",
   "metadata": {},
   "source": [
    "**Array**"
   ]
  },
  {
   "cell_type": "code",
   "execution_count": 2,
   "id": "644ddfd0-55b6-4468-a0dc-d7f3c81a5ba7",
   "metadata": {},
   "outputs": [
    {
     "data": {
      "text/plain": [
       "array(5)"
      ]
     },
     "execution_count": 2,
     "metadata": {},
     "output_type": "execute_result"
    }
   ],
   "source": [
    "np.array(5)"
   ]
  },
  {
   "cell_type": "code",
   "execution_count": 4,
   "id": "4b19b4a1-7d03-4624-afce-8ef3624c43d4",
   "metadata": {},
   "outputs": [
    {
     "data": {
      "text/plain": [
       "array([1, 2, 3])"
      ]
     },
     "execution_count": 4,
     "metadata": {},
     "output_type": "execute_result"
    }
   ],
   "source": [
    "np.array([1,2,3])"
   ]
  },
  {
   "cell_type": "code",
   "execution_count": 11,
   "id": "7673233f-d2f3-4342-8e17-4eed483b3d97",
   "metadata": {},
   "outputs": [
    {
     "data": {
      "text/plain": [
       "array([[1, 2, 3],\n",
       "       [2, 3, 4]])"
      ]
     },
     "execution_count": 11,
     "metadata": {},
     "output_type": "execute_result"
    }
   ],
   "source": [
    "n = np.array([[1,2,3],[2,3,4]])\n",
    "n"
   ]
  },
  {
   "cell_type": "code",
   "execution_count": 10,
   "id": "b95f26be-5114-493e-b9e9-ce18d776df1b",
   "metadata": {},
   "outputs": [
    {
     "data": {
      "text/plain": [
       "array([1, 2, 3])"
      ]
     },
     "execution_count": 10,
     "metadata": {},
     "output_type": "execute_result"
    }
   ],
   "source": [
    "n[0]"
   ]
  },
  {
   "cell_type": "code",
   "execution_count": 15,
   "id": "aed2a6d8-a8ec-4b8e-b788-8999d0cfd9ab",
   "metadata": {},
   "outputs": [
    {
     "data": {
      "text/plain": [
       "1"
      ]
     },
     "execution_count": 15,
     "metadata": {},
     "output_type": "execute_result"
    }
   ],
   "source": [
    "n[0][0]"
   ]
  },
  {
   "cell_type": "code",
   "execution_count": 16,
   "id": "a5bca1c5-e051-4576-8e8d-0b9d67a5c6b7",
   "metadata": {},
   "outputs": [
    {
     "data": {
      "text/plain": [
       "1"
      ]
     },
     "execution_count": 16,
     "metadata": {},
     "output_type": "execute_result"
    }
   ],
   "source": [
    "n[0,0]"
   ]
  },
  {
   "cell_type": "markdown",
   "id": "09601c08-2221-488e-b6a9-513c91e897df",
   "metadata": {},
   "source": [
    "**Shape**"
   ]
  },
  {
   "cell_type": "code",
   "execution_count": 6,
   "id": "bf42965d-bbb4-4b8f-b4fa-9fde40067825",
   "metadata": {},
   "outputs": [
    {
     "data": {
      "text/plain": [
       "(3,)"
      ]
     },
     "execution_count": 6,
     "metadata": {},
     "output_type": "execute_result"
    }
   ],
   "source": [
    "np.shape(np.array([1,2,3]))"
   ]
  },
  {
   "cell_type": "code",
   "execution_count": 7,
   "id": "370b7e26-b5ae-4a0e-9888-d184c74a5205",
   "metadata": {},
   "outputs": [
    {
     "data": {
      "text/plain": [
       "(2, 3)"
      ]
     },
     "execution_count": 7,
     "metadata": {},
     "output_type": "execute_result"
    }
   ],
   "source": [
    "np.shape(np.array([[1,2,3],[2,3,4]]))"
   ]
  },
  {
   "cell_type": "markdown",
   "id": "4a6acd73-018b-4f96-a5df-c34bfcb71f58",
   "metadata": {},
   "source": [
    "**ndim**"
   ]
  },
  {
   "cell_type": "code",
   "execution_count": 17,
   "id": "d43ae18e-4777-4473-a9cd-fbfa7fb84199",
   "metadata": {},
   "outputs": [
    {
     "data": {
      "text/plain": [
       "1"
      ]
     },
     "execution_count": 17,
     "metadata": {},
     "output_type": "execute_result"
    }
   ],
   "source": [
    "np.ndim(np.array([1,2,3]))"
   ]
  },
  {
   "cell_type": "code",
   "execution_count": 18,
   "id": "4d251562-be5c-48ae-9d51-8a73030ff398",
   "metadata": {},
   "outputs": [
    {
     "data": {
      "text/plain": [
       "2"
      ]
     },
     "execution_count": 18,
     "metadata": {},
     "output_type": "execute_result"
    }
   ],
   "source": [
    "np.ndim(np.array([[1,2,3],[2,3,4]]))"
   ]
  },
  {
   "cell_type": "markdown",
   "id": "6be5e28c-dfbd-4009-9f99-51887f2ebdd4",
   "metadata": {},
   "source": [
    "**Size**"
   ]
  },
  {
   "cell_type": "code",
   "execution_count": 25,
   "id": "863310c0-bb21-4045-9d9b-f6d9cfcd8ff8",
   "metadata": {},
   "outputs": [
    {
     "data": {
      "text/plain": [
       "6"
      ]
     },
     "execution_count": 25,
     "metadata": {},
     "output_type": "execute_result"
    }
   ],
   "source": [
    "np.size()"
   ]
  },
  {
   "cell_type": "markdown",
   "id": "27d0012d-714a-462f-9c40-f6c14880b034",
   "metadata": {},
   "source": [
    "**dtype**"
   ]
  },
  {
   "cell_type": "code",
   "execution_count": 37,
   "id": "afe0a8f5-357a-4c5a-8b17-d54a9f70afff",
   "metadata": {},
   "outputs": [
    {
     "data": {
      "text/plain": [
       "dtype('int32')"
      ]
     },
     "execution_count": 37,
     "metadata": {},
     "output_type": "execute_result"
    }
   ],
   "source": [
    "(np.array([[1,2,3],[2,3,4]])).dtype"
   ]
  },
  {
   "cell_type": "code",
   "execution_count": 42,
   "id": "4c901bf5-a316-4a6b-b288-0886459fdef7",
   "metadata": {},
   "outputs": [],
   "source": [
    "arr = np.array([1,2,3,4,5,6,7], dtype=\"f\")"
   ]
  },
  {
   "cell_type": "code",
   "execution_count": 43,
   "id": "692d996c-0773-4cbf-aeeb-6015cb604674",
   "metadata": {},
   "outputs": [
    {
     "data": {
      "text/plain": [
       "dtype('float32')"
      ]
     },
     "execution_count": 43,
     "metadata": {},
     "output_type": "execute_result"
    }
   ],
   "source": [
    "arr.dtype"
   ]
  },
  {
   "cell_type": "code",
   "execution_count": 44,
   "id": "67cf1064-2995-4d92-843b-d8ecb6c05c78",
   "metadata": {},
   "outputs": [
    {
     "data": {
      "text/plain": [
       "(7,)"
      ]
     },
     "execution_count": 44,
     "metadata": {},
     "output_type": "execute_result"
    }
   ],
   "source": [
    "arr.shape"
   ]
  },
  {
   "cell_type": "code",
   "execution_count": 45,
   "id": "0fcc021b-245d-4ab7-a1c4-e4885b1bc343",
   "metadata": {},
   "outputs": [
    {
     "data": {
      "text/plain": [
       "<function ndarray.sort>"
      ]
     },
     "execution_count": 45,
     "metadata": {},
     "output_type": "execute_result"
    }
   ],
   "source": [
    "arr.sort"
   ]
  },
  {
   "cell_type": "code",
   "execution_count": 46,
   "id": "33f9ff4c-9327-4665-9355-e64e8f22888e",
   "metadata": {},
   "outputs": [
    {
     "data": {
      "text/plain": [
       "array([1., 2., 3., 4., 5., 6., 7.], dtype=float32)"
      ]
     },
     "execution_count": 46,
     "metadata": {},
     "output_type": "execute_result"
    }
   ],
   "source": [
    "arr"
   ]
  },
  {
   "cell_type": "code",
   "execution_count": 62,
   "id": "4359ec9e-e8bb-4598-8d24-1c6541343e03",
   "metadata": {},
   "outputs": [
    {
     "data": {
      "text/plain": [
       "array([1., 2.])"
      ]
     },
     "execution_count": 62,
     "metadata": {},
     "output_type": "execute_result"
    }
   ],
   "source": [
    "np.trunc(np.array([1.5,2.6]))"
   ]
  },
  {
   "cell_type": "code",
   "execution_count": 63,
   "id": "3eda0db3-14d0-4f5f-a72b-46f0b09e1ccd",
   "metadata": {},
   "outputs": [
    {
     "name": "stdout",
     "output_type": "stream",
     "text": [
      "[1 3 6]\n"
     ]
    }
   ],
   "source": [
    "arr = np.array([1,2,3])\n",
    "print(np.cumsum(arr))"
   ]
  },
  {
   "cell_type": "code",
   "execution_count": null,
   "id": "971a47d6-363d-4688-a913-c7f9d21709c8",
   "metadata": {},
   "outputs": [],
   "source": []
  }
 ],
 "metadata": {
  "kernelspec": {
   "display_name": "Python 3 (ipykernel)",
   "language": "python",
   "name": "python3"
  },
  "language_info": {
   "codemirror_mode": {
    "name": "ipython",
    "version": 3
   },
   "file_extension": ".py",
   "mimetype": "text/x-python",
   "name": "python",
   "nbconvert_exporter": "python",
   "pygments_lexer": "ipython3",
   "version": "3.12.4"
  }
 },
 "nbformat": 4,
 "nbformat_minor": 5
}
