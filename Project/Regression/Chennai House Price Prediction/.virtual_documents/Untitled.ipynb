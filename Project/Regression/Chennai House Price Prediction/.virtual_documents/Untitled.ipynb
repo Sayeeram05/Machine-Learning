import numpy as np
import pandas as pd


Df = pd.read_csv("Chennai houseing sale.csv")
Df.head()


Df.info()


Df.describe()


for i in Df.columns:
    print(i,":",Df[i].unique(),end="\n\n")


Df["DATE_BUILD"] = pd.to_datetime(Df["DATE_BUILD"],format="%d-%m-%Y")
Df["DATE_SALE"] = pd.to_datetime(Df["DATE_SALE"],format="%d-%m-%Y")


Df["DATE_SALE"].dt.year.head()


Df["DATE_BUILD"].dt.year.head()


Df["PROPERTY_AGE"] = Df["DATE_SALE"].dt.year - Df["DATE_BUILD"].dt.year


Df.head()





Df["AREA"].unique()


Df.loc[Df["AREA"]=='KK Nagar',"AREA"] = "KKNagar"
Df.loc[Df["AREA"].isin(['Chormpet',"Chrmpet","Chrompt"]),"AREA"] = "Chrompet"
Df.loc[Df["AREA"].isin(['Ana Nagar',"Ann Nagar"]),"AREA"] = "Anna Nagar"
Df.loc[Df["AREA"] == "Adyr","AREA"] = "Adyar"
Df.loc[Df["AREA"] == "T Nagar","AREA"] = "TNagar"
Df.loc[Df["AREA"] == "Velchery","AREA"] = "Velachery"
Df.loc[Df["AREA"] == "Karapakam","AREA"] = "Karapakkam"


Df["AREA"].unique()





Df["SALE_COND"].unique()


Df.loc[Df["SALE_COND"] == "Ab Normal","SALE_COND"] = "AbNormal"
Df.loc[Df["SALE_COND"].isin(["Partiall","PartiaLl"]),"SALE_COND"] = "Partial"
Df.loc[Df["SALE_COND"] == "Adj Land","SALE_COND"] = "AdjLand"


Df["SALE_COND"].unique()





Df["PARK_FACIL"].unique()


Df.loc[Df["PARK_FACIL"] == "Noo","PARK_FACIL"] = "No"


Df["PARK_FACIL"].unique()





Df["BUILDTYPE"].unique()


Df.loc[Df["BUILDTYPE"] == "Other","BUILDTYPE"] = "Others"
Df.loc[Df["BUILDTYPE"] == "Commercial","BUILDTYPE"] = "Comercial"


Df["BUILDTYPE"].unique()





Df["UTILITY_AVAIL"].unique()


Df.loc[Df["UTILITY_AVAIL"] == "All Pub","UTILITY_AVAIL"] = "AllPub"


Df["UTILITY_AVAIL"].unique()





Df["STREET"].unique()


Df.loc[Df["STREET"] == "Pavd","STREET"] = "Paved"
Df.loc[Df["STREET"] == "No Access","STREET"] = "NoAccess"


Df["STREET"].unique()





for i in Df.columns:
    print(i,":",Df[i].unique(),end="\n\n")



