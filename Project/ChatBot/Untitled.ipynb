{
 "cells": [
  {
   "cell_type": "markdown",
   "id": "16992d51-a8d4-41e7-81eb-e3ad8d38ff55",
   "metadata": {},
   "source": [
    "**25/07/2024**"
   ]
  },
  {
   "cell_type": "markdown",
   "id": "29cb2eae-1020-4610-8f1f-c57593115157",
   "metadata": {},
   "source": [
    "<h1>Chat Bot</h2>"
   ]
  },
  {
   "cell_type": "markdown",
   "id": "b1ee409e-de9c-40ac-b17b-0c45cd77879a",
   "metadata": {},
   "source": [
    "<h3>Basics</h3>  \n",
    "<h4>1.Tokenization</h4>    \n",
    "<p>Splitting a string into meaningful units</p>\n",
    "<h4>2. Stemming</h4>\n",
    "<p>Generate the root word from the Comman Word  Ex: [\"Organize\",\"Organizing\"] => [\"Organ\",\"Organ\"]</p>\n",
    "<h4>3.Bag Of Words</h4>\n",
    "<p>Set Of Words after Stemming and Lowered</p>"
   ]
  },
  {
   "cell_type": "markdown",
   "id": "f49cd648-8b64-4e52-b066-b466d3d3dfd6",
   "metadata": {},
   "source": [
    "**Install NLTK**\n",
    "1. Created A Environment In Anaconda\n",
    "2. Install NLTK\n",
    "   1. Command - pip install nltk\n",
    "   2. To Check - import nltk"
   ]
  },
  {
   "cell_type": "code",
   "execution_count": null,
   "id": "1e70f3aa-4852-46bc-af38-278cc6af46d1",
   "metadata": {},
   "outputs": [],
   "source": []
  }
 ],
 "metadata": {
  "kernelspec": {
   "display_name": "Python 3 (ipykernel)",
   "language": "python",
   "name": "python3"
  },
  "language_info": {
   "codemirror_mode": {
    "name": "ipython",
    "version": 3
   },
   "file_extension": ".py",
   "mimetype": "text/x-python",
   "name": "python",
   "nbconvert_exporter": "python",
   "pygments_lexer": "ipython3",
   "version": "3.12.4"
  }
 },
 "nbformat": 4,
 "nbformat_minor": 5
}
