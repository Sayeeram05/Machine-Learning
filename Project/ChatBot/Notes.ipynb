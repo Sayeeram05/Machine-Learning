{
 "cells": [
  {
   "cell_type": "markdown",
   "id": "16992d51-a8d4-41e7-81eb-e3ad8d38ff55",
   "metadata": {},
   "source": [
    "<hr>\n",
    "**26/07/2024**\n",
    "<hr>"
   ]
  },
  {
   "cell_type": "markdown",
   "id": "29cb2eae-1020-4610-8f1f-c57593115157",
   "metadata": {},
   "source": [
    "<h1>Chat Bot</h2>"
   ]
  },
  {
   "cell_type": "markdown",
   "id": "b1ee409e-de9c-40ac-b17b-0c45cd77879a",
   "metadata": {},
   "source": [
    "<h3>Basics</h3>  \n",
    "<h4>1.Tokenization</h4>    \n",
    "<p>Splitting a string into meaningful units</p>\n",
    "<h4>2. Stemming</h4>\n",
    "<p>Generate the root word from the Comman Word  Ex: [\"Organize\",\"Organizing\"] => [\"Organ\",\"Organ\"]</p>\n",
    "<h4>3.Bag Of Words</h4>\n",
    "<p>Set Of Words after Stemming and Lowered</p>"
   ]
  },
  {
   "cell_type": "markdown",
   "id": "f49cd648-8b64-4e52-b066-b466d3d3dfd6",
   "metadata": {},
   "source": [
    "**Install NLTK**\n",
    "1. Created A Environment In Anaconda\n",
    "2. Install NLTK\n",
    "   1. Command - pip install nltk\n",
    "   2. To Check - import nltk"
   ]
  },
  {
   "cell_type": "markdown",
   "id": "1e70f3aa-4852-46bc-af38-278cc6af46d1",
   "metadata": {},
   "source": [
    "<hr>\n",
    "**27/07/2024**\n",
    "<hr>"
   ]
  },
  {
   "cell_type": "markdown",
   "id": "9b1ccde5",
   "metadata": {},
   "source": [
    "<h4><b>Json File </b></h4>\n",
    "A JSON file is a way to store and exchange data in a simple text format. JSON stands for JavaScript Object Notation. It's like a digital box where you can neatly organize information using pairs of keys and values.  \n",
    "JSON files are often used to send data between a server and a web application, as they're easy for computers and humans to read and write.    \n",
    "\n",
    "<h4><b>Why Json File </b></h4>     \n",
    "A JSON file is like a simple, organized list for storing data. For chatbots, JSON files are used to store examples of what people might say (inputs) and how the chatbot should respond. This helps in training the chatbot to understand and reply to users correctly.  \n",
    "<p><b>Structured Data:</b> Organizes information neatly.</p> \n",
    "<p><b>Ease of Use:</b> Simple for both humans and machines to read and write.</p> \n",
    "<p><b>Flexibility:</b> Supports various data types (e.g., text, numbers, lists).</p>  \n",
    "<p><b>Interoperability:</b> Works across different programming languages and platforms.</p> \n",
    "<p><b>Standardization:</b> Consistent format for storing and interpreting data.</p> \n",
    "<p><b>Training Data:</b> Stores examples of user inputs and chatbot responses for training.</p>    "
   ]
  },
  {
   "cell_type": "markdown",
   "id": "f788e2ba",
   "metadata": {},
   "source": [
    "<h4><b>json file in Code</b></h4> "
   ]
  },
  {
   "cell_type": "markdown",
   "id": "84181c66",
   "metadata": {},
   "source": [
    "import json"
   ]
  },
  {
   "cell_type": "markdown",
   "id": "d0e6f5da",
   "metadata": {},
   "source": [
    "with open(\"Filename.json\", \"Privilage\") as variable0:<br>\n",
    "&emsp;&emsp;Variable1 = json.load(variable0)  &emsp;# Json Content stored in Variable1"
   ]
  },
  {
   "cell_type": "markdown",
   "id": "ffed6d58",
   "metadata": {},
   "source": [
    "Here Datas are store in Dictionary format"
   ]
  },
  {
   "cell_type": "markdown",
   "id": "f78ca81c",
   "metadata": {},
   "source": [
    "in Dictionary, intents key contains a list, That List as dictionary with tag,pattern and response keys  \n",
    "refer intents.json"
   ]
  },
  {
   "cell_type": "markdown",
   "id": "26c27bba",
   "metadata": {},
   "source": []
  }
 ],
 "metadata": {
  "kernelspec": {
   "display_name": "Python 3 (ipykernel)",
   "language": "python",
   "name": "python3"
  },
  "language_info": {
   "codemirror_mode": {
    "name": "ipython",
    "version": 3
   },
   "file_extension": ".py",
   "mimetype": "text/x-python",
   "name": "python",
   "nbconvert_exporter": "python",
   "pygments_lexer": "ipython3",
   "version": "3.12.4"
  }
 },
 "nbformat": 4,
 "nbformat_minor": 5
}
