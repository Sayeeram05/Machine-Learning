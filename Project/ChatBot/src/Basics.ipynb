{
 "cells": [
  {
   "cell_type": "code",
   "execution_count": 3,
   "id": "243ee500-c731-47fe-bd0d-efbfa3b30ede",
   "metadata": {},
   "outputs": [],
   "source": [
    "import nltk"
   ]
  },
  {
   "cell_type": "markdown",
   "id": "dd8f2d87-8d16-4312-bb6d-24f6801db806",
   "metadata": {},
   "source": [
    "nltk.download(\"punkt\")"
   ]
  },
  {
   "cell_type": "code",
   "execution_count": 4,
   "id": "d7a9f9f6-21c4-4807-bb42-fa74150839b1",
   "metadata": {},
   "outputs": [],
   "source": [
    "def Tokenize(Sentence):\n",
    "    return nltk.word_tokenize(Sentence)  # Error : nltk.download(\"punkt\") for first time"
   ]
  },
  {
   "cell_type": "code",
   "execution_count": 5,
   "id": "10d01054-ea63-4978-9d31-2d4881200ce1",
   "metadata": {},
   "outputs": [
    {
     "data": {
      "text/plain": [
       "['Hi', 'There', 'Chatbot']"
      ]
     },
     "execution_count": 5,
     "metadata": {},
     "output_type": "execute_result"
    }
   ],
   "source": [
    "TokensiedWord = Tokenize(\"Hi There Chatbot\")\n",
    "TokensiedWord"
   ]
  },
  {
   "cell_type": "code",
   "execution_count": 6,
   "id": "53018c1b-ab14-4203-993c-2e7d3755b817",
   "metadata": {},
   "outputs": [],
   "source": [
    "from nltk.stem.porter import PorterStemmer\n",
    "stemmer = PorterStemmer()\n",
    "\n",
    "def Stem(Word):\n",
    "    return stemmer.stem(Word)"
   ]
  },
  {
   "cell_type": "code",
   "execution_count": 7,
   "id": "da66305f-0934-4b1e-9962-f25cbc7c7cc5",
   "metadata": {},
   "outputs": [
    {
     "data": {
      "text/plain": [
       "['print', 'print', 'print']"
      ]
     },
     "execution_count": 7,
     "metadata": {},
     "output_type": "execute_result"
    }
   ],
   "source": [
    "StemmedWord = [Stem(Word) for Word in [\"Print\",\"Printed\",\"Printing\"]]\n",
    "StemmedWord"
   ]
  },
  {
   "cell_type": "code",
   "execution_count": 8,
   "id": "6a2db955-892f-487c-951b-02f96e07f9f2",
   "metadata": {},
   "outputs": [],
   "source": [
    "def BagOfWords(TokenizedWords, AllWords):\n",
    "    pass"
   ]
  },
  {
   "cell_type": "markdown",
   "id": "d8e0c51a",
   "metadata": {},
   "source": [
    "Json"
   ]
  },
  {
   "cell_type": "code",
   "execution_count": 9,
   "id": "3d6daef8",
   "metadata": {},
   "outputs": [
    {
     "name": "stdout",
     "output_type": "stream",
     "text": [
      "<_io.TextIOWrapper name='intents.json' mode='r' encoding='utf-8'>\n"
     ]
    }
   ],
   "source": [
    "import json\n",
    "\n",
    "with open(\"intents.json\", \"r\") as i:\n",
    "    print(i)\n",
    "    intents = json.load(i)"
   ]
  },
  {
   "cell_type": "code",
   "execution_count": 10,
   "id": "433147d5",
   "metadata": {},
   "outputs": [
    {
     "data": {
      "text/plain": [
       "{'intents': [{'tag': 'greeting',\n",
       "   'patterns': ['Hi',\n",
       "    'Hey',\n",
       "    'How are you',\n",
       "    'Is anyone there?',\n",
       "    'Hello',\n",
       "    'Good day'],\n",
       "   'responses': ['Hey :-)',\n",
       "    'Hello, thanks for visiting',\n",
       "    'Hi there, what can I do for you?',\n",
       "    'Hi there, how can I help?']},\n",
       "  {'tag': 'goodbye',\n",
       "   'patterns': ['Bye', 'See you later', 'Goodbye'],\n",
       "   'responses': ['See you later, thanks for visiting',\n",
       "    'Have a nice day',\n",
       "    'Bye! Come back again soon.']},\n",
       "  {'tag': 'thanks',\n",
       "   'patterns': ['Thanks', 'Thank you', \"That's helpful\", \"Thank's a lot!\"],\n",
       "   'responses': ['Happy to help!', 'Any time!', 'My pleasure']},\n",
       "  {'tag': 'items',\n",
       "   'patterns': ['Which items do you have?',\n",
       "    'What kinds of items are there?',\n",
       "    'What do you sell?'],\n",
       "   'responses': ['We sell coffee and tea', 'We have coffee and tea']},\n",
       "  {'tag': 'payments',\n",
       "   'patterns': ['Do you take credit cards?',\n",
       "    'Do you accept Mastercard?',\n",
       "    'Can I pay with Paypal?',\n",
       "    'Are you cash only?'],\n",
       "   'responses': ['We accept VISA, Mastercard and Paypal',\n",
       "    'We accept most major credit cards, and Paypal']},\n",
       "  {'tag': 'delivery',\n",
       "   'patterns': ['How long does delivery take?',\n",
       "    'How long does shipping take?',\n",
       "    'When do I get my delivery?'],\n",
       "   'responses': ['Delivery takes 2-4 days', 'Shipping takes 2-4 days']},\n",
       "  {'tag': 'funny',\n",
       "   'patterns': ['Tell me a joke!',\n",
       "    'Tell me something funny!',\n",
       "    'Do you know a joke?'],\n",
       "   'responses': ['Why did the hipster burn his mouth? He drank the coffee before it was cool.',\n",
       "    'What did the buffalo say when his son left for college? Bison.']}]}"
      ]
     },
     "execution_count": 10,
     "metadata": {},
     "output_type": "execute_result"
    }
   ],
   "source": [
    "intents"
   ]
  },
  {
   "cell_type": "code",
   "execution_count": 11,
   "id": "ed97529e",
   "metadata": {},
   "outputs": [
    {
     "name": "stdout",
     "output_type": "stream",
     "text": [
      "{'tag': 'greeting', 'patterns': ['Hi', 'Hey', 'How are you', 'Is anyone there?', 'Hello', 'Good day'], 'responses': ['Hey :-)', 'Hello, thanks for visiting', 'Hi there, what can I do for you?', 'Hi there, how can I help?']} \n",
      "\n",
      "{'tag': 'goodbye', 'patterns': ['Bye', 'See you later', 'Goodbye'], 'responses': ['See you later, thanks for visiting', 'Have a nice day', 'Bye! Come back again soon.']} \n",
      "\n",
      "{'tag': 'thanks', 'patterns': ['Thanks', 'Thank you', \"That's helpful\", \"Thank's a lot!\"], 'responses': ['Happy to help!', 'Any time!', 'My pleasure']} \n",
      "\n",
      "{'tag': 'items', 'patterns': ['Which items do you have?', 'What kinds of items are there?', 'What do you sell?'], 'responses': ['We sell coffee and tea', 'We have coffee and tea']} \n",
      "\n",
      "{'tag': 'payments', 'patterns': ['Do you take credit cards?', 'Do you accept Mastercard?', 'Can I pay with Paypal?', 'Are you cash only?'], 'responses': ['We accept VISA, Mastercard and Paypal', 'We accept most major credit cards, and Paypal']} \n",
      "\n",
      "{'tag': 'delivery', 'patterns': ['How long does delivery take?', 'How long does shipping take?', 'When do I get my delivery?'], 'responses': ['Delivery takes 2-4 days', 'Shipping takes 2-4 days']} \n",
      "\n",
      "{'tag': 'funny', 'patterns': ['Tell me a joke!', 'Tell me something funny!', 'Do you know a joke?'], 'responses': ['Why did the hipster burn his mouth? He drank the coffee before it was cool.', 'What did the buffalo say when his son left for college? Bison.']} \n",
      "\n"
     ]
    }
   ],
   "source": [
    "for intent in intents[\"intents\"]:\n",
    "    print(intent,\"\\n\")"
   ]
  },
  {
   "cell_type": "code",
   "execution_count": 12,
   "id": "9206121e",
   "metadata": {},
   "outputs": [
    {
     "name": "stdout",
     "output_type": "stream",
     "text": [
      "Tag :  greeting\n",
      "Pattens :  ['Hi', 'Hey', 'How are you', 'Is anyone there?', 'Hello', 'Good day']\n",
      "Responses :  ['Hey :-)', 'Hello, thanks for visiting', 'Hi there, what can I do for you?', 'Hi there, how can I help?']\n",
      "\n",
      "Tag :  goodbye\n",
      "Pattens :  ['Bye', 'See you later', 'Goodbye']\n",
      "Responses :  ['See you later, thanks for visiting', 'Have a nice day', 'Bye! Come back again soon.']\n",
      "\n",
      "Tag :  thanks\n",
      "Pattens :  ['Thanks', 'Thank you', \"That's helpful\", \"Thank's a lot!\"]\n",
      "Responses :  ['Happy to help!', 'Any time!', 'My pleasure']\n",
      "\n",
      "Tag :  items\n",
      "Pattens :  ['Which items do you have?', 'What kinds of items are there?', 'What do you sell?']\n",
      "Responses :  ['We sell coffee and tea', 'We have coffee and tea']\n",
      "\n",
      "Tag :  payments\n",
      "Pattens :  ['Do you take credit cards?', 'Do you accept Mastercard?', 'Can I pay with Paypal?', 'Are you cash only?']\n",
      "Responses :  ['We accept VISA, Mastercard and Paypal', 'We accept most major credit cards, and Paypal']\n",
      "\n",
      "Tag :  delivery\n",
      "Pattens :  ['How long does delivery take?', 'How long does shipping take?', 'When do I get my delivery?']\n",
      "Responses :  ['Delivery takes 2-4 days', 'Shipping takes 2-4 days']\n",
      "\n",
      "Tag :  funny\n",
      "Pattens :  ['Tell me a joke!', 'Tell me something funny!', 'Do you know a joke?']\n",
      "Responses :  ['Why did the hipster burn his mouth? He drank the coffee before it was cool.', 'What did the buffalo say when his son left for college? Bison.']\n",
      "\n"
     ]
    }
   ],
   "source": [
    "for intent in intents[\"intents\"]:\n",
    "    print(\"Tag : \",intent[\"tag\"])\n",
    "    print(\"Pattens : \",intent[\"patterns\"])\n",
    "    print(\"Responses : \",intent[\"responses\"])\n",
    "    print()"
   ]
  },
  {
   "cell_type": "code",
   "execution_count": null,
   "id": "5401ad7c",
   "metadata": {},
   "outputs": [],
   "source": []
  }
 ],
 "metadata": {
  "kernelspec": {
   "display_name": "Python 3 (ipykernel)",
   "language": "python",
   "name": "python3"
  },
  "language_info": {
   "codemirror_mode": {
    "name": "ipython",
    "version": 3
   },
   "file_extension": ".py",
   "mimetype": "text/x-python",
   "name": "python",
   "nbconvert_exporter": "python",
   "pygments_lexer": "ipython3",
   "version": "3.12.4"
  }
 },
 "nbformat": 4,
 "nbformat_minor": 5
}
