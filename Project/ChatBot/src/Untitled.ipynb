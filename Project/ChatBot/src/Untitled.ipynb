{
 "cells": [
  {
   "cell_type": "code",
   "execution_count": null,
   "id": "7a309bc7-1860-4090-b21c-8b145719186b",
   "metadata": {},
   "outputs": [
    {
     "name": "stderr",
     "output_type": "stream",
     "text": [
      "C:\\Users\\SAYEERAM\\AppData\\Local\\Temp\\ipykernel_11084\\2110564804.py:15: FutureWarning: You are using `torch.load` with `weights_only=False` (the current default value), which uses the default pickle module implicitly. It is possible to construct malicious pickle data which will execute arbitrary code during unpickling (See https://github.com/pytorch/pytorch/blob/main/SECURITY.md#untrusted-models for more details). In a future release, the default value for `weights_only` will be flipped to `True`. This limits the functions that could be executed during unpickling. Arbitrary objects will no longer be allowed to be loaded via this mode unless they are explicitly allowlisted by the user via `torch.serialization.add_safe_globals`. We recommend you start setting `weights_only=True` for any use case where you don't have full control of the loaded file. Please open an issue on GitHub for any issues related to this experimental feature.\n",
      "  data = torch.load(FILE)\n"
     ]
    },
    {
     "name": "stdout",
     "output_type": "stream",
     "text": [
      "Let's chat! (type 'quit' to exit)\n"
     ]
    },
    {
     "name": "stdin",
     "output_type": "stream",
     "text": [
      "You:  Where can I find a good North Indian restaurant?\n"
     ]
    },
    {
     "name": "stdout",
     "output_type": "stream",
     "text": [
      "Prob :  tensor(0.9998, device='cuda:0', grad_fn=<SelectBackward0>)\n",
      "Sam: ['Check out these popular North Indian restaurants:', '1. Restaurant 1', '2. Restaurant 2', '3. Restaurant 3', '4. Restaurant 4', '5. Restaurant 5']\n"
     ]
    },
    {
     "name": "stdin",
     "output_type": "stream",
     "text": [
      "You:  good North Indian restaurant?\n"
     ]
    },
    {
     "name": "stdout",
     "output_type": "stream",
     "text": [
      "Prob :  tensor(0.9973, device='cuda:0', grad_fn=<SelectBackward0>)\n",
      "Sam: ['These are the top-rated North Indian restaurants:', '1. Restaurant 1', '2. Restaurant 2', '3. Restaurant 3', '4. Restaurant 4', '5. Restaurant 5']\n"
     ]
    },
    {
     "name": "stdin",
     "output_type": "stream",
     "text": [
      "You:  black chai near me\n"
     ]
    },
    {
     "name": "stdout",
     "output_type": "stream",
     "text": [
      "Prob :  tensor(0.9975, device='cuda:0', grad_fn=<SelectBackward0>)\n",
      "Sam: ['Check out these great spots for black chai:', '1. Restaurant 1', '2. Restaurant 2', '3. Restaurant 3', '4. Restaurant 4', '5. Restaurant 5']\n"
     ]
    },
    {
     "name": "stdin",
     "output_type": "stream",
     "text": [
      "You:  black\n"
     ]
    },
    {
     "name": "stdout",
     "output_type": "stream",
     "text": [
      "Prob :  tensor(0.8894, device='cuda:0', grad_fn=<SelectBackward0>)\n",
      "Sam: ['Here are some popular places for black coffee you might enjoy:', '1. Restaurant 1', '2. Restaurant 2', '3. Restaurant 3', '4. Restaurant 4', '5. Restaurant 5']\n"
     ]
    },
    {
     "name": "stdin",
     "output_type": "stream",
     "text": [
      "You:  black chi\n"
     ]
    },
    {
     "name": "stdout",
     "output_type": "stream",
     "text": [
      "Prob :  tensor(0.8894, device='cuda:0', grad_fn=<SelectBackward0>)\n",
      "Sam: ['Here are some top-rated black coffee places:', '1. Restaurant 1', '2. Restaurant 2', '3. Restaurant 3', '4. Restaurant 4', '5. Restaurant 5']\n"
     ]
    },
    {
     "name": "stdin",
     "output_type": "stream",
     "text": [
      "You:  black chai\n"
     ]
    },
    {
     "name": "stdout",
     "output_type": "stream",
     "text": [
      "Prob :  tensor(0.9938, device='cuda:0', grad_fn=<SelectBackward0>)\n",
      "Sam: ['You might enjoy these top black chai spots:', '1. Restaurant 1', '2. Restaurant 2', '3. Restaurant 3', '4. Restaurant 4', '5. Restaurant 5']\n"
     ]
    },
    {
     "name": "stdin",
     "output_type": "stream",
     "text": [
      "You:   biryani near me\n"
     ]
    },
    {
     "name": "stdout",
     "output_type": "stream",
     "text": [
      "Prob :  tensor(0.9895, device='cuda:0', grad_fn=<SelectBackward0>)\n",
      "Sam: ['These biryani spots come highly recommended:', '1. Restaurant 1', '2. Restaurant 2', '3. Restaurant 3', '4. Restaurant 4', '5. Restaurant 5']\n"
     ]
    },
    {
     "name": "stdin",
     "output_type": "stream",
     "text": [
      "You:  biryani\n"
     ]
    },
    {
     "name": "stdout",
     "output_type": "stream",
     "text": [
      "Prob :  tensor(0.9584, device='cuda:0', grad_fn=<SelectBackward0>)\n",
      "Sam: ['You might enjoy these top biryani spots:', '1. Restaurant 1', '2. Restaurant 2', '3. Restaurant 3', '4. Restaurant 4', '5. Restaurant 5']\n"
     ]
    },
    {
     "name": "stdin",
     "output_type": "stream",
     "text": [
      "You:  chicken\n"
     ]
    },
    {
     "name": "stdout",
     "output_type": "stream",
     "text": [
      "Prob :  tensor(0.2719, device='cuda:0', grad_fn=<SelectBackward0>)\n",
      "Sam: I do not understand...\n"
     ]
    },
    {
     "name": "stdin",
     "output_type": "stream",
     "text": [
      "You:  chicken biryani\n"
     ]
    },
    {
     "name": "stdout",
     "output_type": "stream",
     "text": [
      "Prob :  tensor(0.9746, device='cuda:0', grad_fn=<SelectBackward0>)\n",
      "Sam: ['These chicken biryani spots come highly recommended:', '1. Restaurant 1', '2. Restaurant 2', '3. Restaurant 3', '4. Restaurant 4', '5. Restaurant 5']\n"
     ]
    },
    {
     "name": "stdin",
     "output_type": "stream",
     "text": [
      "You:  pure veg restaurant\n"
     ]
    },
    {
     "name": "stdout",
     "output_type": "stream",
     "text": [
      "Prob :  tensor(0.9824, device='cuda:0', grad_fn=<SelectBackward0>)\n",
      "Sam: Check out these places for great pure veg food.\n"
     ]
    },
    {
     "name": "stdin",
     "output_type": "stream",
     "text": [
      "You:  affordable chicken biryani\n"
     ]
    },
    {
     "name": "stdout",
     "output_type": "stream",
     "text": [
      "Prob :  tensor(0.9275, device='cuda:0', grad_fn=<SelectBackward0>)\n",
      "Sam: ['Here are some top-rated chicken biryani places:', '1. Restaurant 1', '2. Restaurant 2', '3. Restaurant 3', '4. Restaurant 4', '5. Restaurant 5']\n"
     ]
    },
    {
     "name": "stdin",
     "output_type": "stream",
     "text": [
      "You:  aSDAS WSDaw chicken biryani\n"
     ]
    },
    {
     "name": "stdout",
     "output_type": "stream",
     "text": [
      "Prob :  tensor(0.9746, device='cuda:0', grad_fn=<SelectBackward0>)\n",
      "Sam: ['Check out these great places for chicken biryani:', '1. Restaurant 1', '2. Restaurant 2', '3. Restaurant 3', '4. Restaurant 4', '5. Restaurant 5']\n"
     ]
    },
    {
     "name": "stdin",
     "output_type": "stream",
     "text": [
      "You:  xdvxfdbgcf\n"
     ]
    },
    {
     "name": "stdout",
     "output_type": "stream",
     "text": [
      "Prob :  tensor(0.2344, device='cuda:0', grad_fn=<SelectBackward0>)\n",
      "Sam: I do not understand...\n"
     ]
    },
    {
     "name": "stdin",
     "output_type": "stream",
     "text": [
      "You:  xcvxc\n"
     ]
    },
    {
     "name": "stdout",
     "output_type": "stream",
     "text": [
      "Prob :  tensor(0.2344, device='cuda:0', grad_fn=<SelectBackward0>)\n",
      "Sam: I do not understand...\n"
     ]
    },
    {
     "name": "stdin",
     "output_type": "stream",
     "text": [
      "You:  huiy\n"
     ]
    },
    {
     "name": "stdout",
     "output_type": "stream",
     "text": [
      "Prob :  tensor(0.2344, device='cuda:0', grad_fn=<SelectBackward0>)\n",
      "Sam: I do not understand...\n"
     ]
    },
    {
     "name": "stdin",
     "output_type": "stream",
     "text": [
      "You:  hi hello bye tata ascfas\n"
     ]
    },
    {
     "name": "stdout",
     "output_type": "stream",
     "text": [
      "Prob :  tensor(0.6020, device='cuda:0', grad_fn=<SelectBackward0>)\n",
      "Sam: I do not understand...\n"
     ]
    },
    {
     "name": "stdin",
     "output_type": "stream",
     "text": [
      "You:  hi bye\n"
     ]
    },
    {
     "name": "stdout",
     "output_type": "stream",
     "text": [
      "Prob :  tensor(0.6855, device='cuda:0', grad_fn=<SelectBackward0>)\n",
      "Sam: I do not understand...\n"
     ]
    }
   ],
   "source": [
    "import random\n",
    "import json\n",
    "\n",
    "import torch\n",
    "\n",
    "%run Model.ipynb import NeuralNet\n",
    "%run NLTK.ipynb import Tokenize,BagOfWord\n",
    "\n",
    "device = torch.device('cuda' if torch.cuda.is_available() else 'cpu')\n",
    "\n",
    "with open('Data.json', 'r') as json_data:\n",
    "    intents = json.load(json_data)\n",
    "\n",
    "FILE = \"data.pth\"\n",
    "data = torch.load(FILE)\n",
    "\n",
    "input_size = data[\"input_size\"]\n",
    "hidden_size = data[\"hidden_size\"]\n",
    "output_size = data[\"output_size\"]\n",
    "all_words = data['all_words']\n",
    "tags = data['tags']\n",
    "model_state = data[\"model_state\"]\n",
    "\n",
    "model = NeuralNet(input_size, hidden_size, output_size).to(device)\n",
    "model.load_state_dict(model_state)\n",
    "model.eval()\n",
    "\n",
    "bot_name = \"Sam\"\n",
    "print(\"Let's chat! (type 'quit' to exit)\")\n",
    "while True:\n",
    "    # sentence = \"do you use credit cards?\"\n",
    "    sentence = input(\"You: \")\n",
    "    if sentence == \"quit\":\n",
    "        break\n",
    "\n",
    "    sentence = Tokenize(sentence)\n",
    "    X = BagOfWord(sentence, all_words)\n",
    "    X = X.reshape(1, X.shape[0])\n",
    "    X = torch.from_numpy(X).to(device)\n",
    "\n",
    "    output = model(X)\n",
    "    _, predicted = torch.max(output, dim=1)\n",
    "\n",
    "    tag = tags[predicted.item()]\n",
    "\n",
    "    probs = torch.softmax(output, dim=1)\n",
    "    prob = probs[0][predicted.item()]\n",
    "    print(\"Prob : \",prob)\n",
    "    if prob.item() > 0.75:\n",
    "        for intent in intents['Data']:\n",
    "            if tag == intent[\"tag\"]:\n",
    "                print(f\"{bot_name}: {random.choice(intent['responses'])}\")\n",
    "    else:\n",
    "        print(f\"{bot_name}: I do not understand...\")"
   ]
  },
  {
   "cell_type": "code",
   "execution_count": null,
   "id": "3631e5a4-be4e-4760-9ff4-3328ebd83822",
   "metadata": {},
   "outputs": [],
   "source": []
  }
 ],
 "metadata": {
  "kernelspec": {
   "display_name": "Python 3 (ipykernel)",
   "language": "python",
   "name": "python3"
  },
  "language_info": {
   "codemirror_mode": {
    "name": "ipython",
    "version": 3
   },
   "file_extension": ".py",
   "mimetype": "text/x-python",
   "name": "python",
   "nbconvert_exporter": "python",
   "pygments_lexer": "ipython3",
   "version": "3.12.4"
  }
 },
 "nbformat": 4,
 "nbformat_minor": 5
}
