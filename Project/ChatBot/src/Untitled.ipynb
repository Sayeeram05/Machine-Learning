{
 "cells": [
  {
   "cell_type": "code",
   "execution_count": 31,
   "id": "8e9771f0-e266-4d84-8058-c1edb58d7899",
   "metadata": {},
   "outputs": [],
   "source": [
    "import import_ipynb"
   ]
  },
  {
   "cell_type": "code",
   "execution_count": 32,
   "id": "6b089ecc-f6b0-41ec-a66c-e29b6ff3ce37",
   "metadata": {},
   "outputs": [],
   "source": [
    "%run NLTK.ipynb import Tokenize,LoweringStemming,BagOfWord  # Use %run to import other jupyte notebook file"
   ]
  },
  {
   "cell_type": "code",
   "execution_count": 33,
   "id": "b748ae07-0e43-4ffe-83f3-1abdde61bd8c",
   "metadata": {},
   "outputs": [],
   "source": [
    "AllWords = []\n",
    "Tags = []\n",
    "XY = []\n",
    "\n",
    "XTrain = []\n",
    "YTrain = []"
   ]
  },
  {
   "cell_type": "code",
   "execution_count": 34,
   "id": "b55464f8-1957-41d5-85a9-9d4c574992af",
   "metadata": {
    "scrolled": true
   },
   "outputs": [
    {
     "data": {
      "text/plain": [
       "{'intents': [{'tag': 'greeting',\n",
       "   'patterns': ['Hi',\n",
       "    'Hey',\n",
       "    'How are you',\n",
       "    'Is anyone there?',\n",
       "    'Hello',\n",
       "    'Good day'],\n",
       "   'responses': ['Hey :-)',\n",
       "    'Hello, thanks for visiting',\n",
       "    'Hi there, what can I do for you?',\n",
       "    'Hi there, how can I help?']},\n",
       "  {'tag': 'goodbye',\n",
       "   'patterns': ['Bye', 'See you later', 'Goodbye'],\n",
       "   'responses': ['See you later, thanks for visiting',\n",
       "    'Have a nice day',\n",
       "    'Bye! Come back again soon.']},\n",
       "  {'tag': 'thanks',\n",
       "   'patterns': ['Thanks', 'Thank you', \"That's helpful\", \"Thank's a lot!\"],\n",
       "   'responses': ['Happy to help!', 'Any time!', 'My pleasure']},\n",
       "  {'tag': 'items',\n",
       "   'patterns': ['Which items do you have?',\n",
       "    'What kinds of items are there?',\n",
       "    'What do you sell?'],\n",
       "   'responses': ['We sell coffee and tea', 'We have coffee and tea']},\n",
       "  {'tag': 'payments',\n",
       "   'patterns': ['Do you take credit cards?',\n",
       "    'Do you accept Mastercard?',\n",
       "    'Can I pay with Paypal?',\n",
       "    'Are you cash only?'],\n",
       "   'responses': ['We accept VISA, Mastercard and Paypal',\n",
       "    'We accept most major credit cards, and Paypal']},\n",
       "  {'tag': 'delivery',\n",
       "   'patterns': ['How long does delivery take?',\n",
       "    'How long does shipping take?',\n",
       "    'When do I get my delivery?'],\n",
       "   'responses': ['Delivery takes 2-4 days', 'Shipping takes 2-4 days']},\n",
       "  {'tag': 'funny',\n",
       "   'patterns': ['Tell me a joke!',\n",
       "    'Tell me something funny!',\n",
       "    'Do you know a joke?'],\n",
       "   'responses': ['Why did the hipster burn his mouth? He drank the coffee before it was cool.',\n",
       "    'What did the buffalo say when his son left for college? Bison.']}]}"
      ]
     },
     "execution_count": 34,
     "metadata": {},
     "output_type": "execute_result"
    }
   ],
   "source": [
    "import json\n",
    "with open(\"intents.json\", \"r\") as F:\n",
    "    intents = json.load(F)\n",
    "intents"
   ]
  },
  {
   "cell_type": "code",
   "execution_count": 35,
   "id": "29edfd82-11d1-4b77-85cb-09791b4df5db",
   "metadata": {
    "scrolled": true
   },
   "outputs": [
    {
     "name": "stdout",
     "output_type": "stream",
     "text": [
      "['hi']\n",
      "['hey']\n",
      "['how', 'are', 'you']\n",
      "['is', 'anyon', 'there']\n",
      "['hello']\n",
      "['good', 'day']\n",
      "['bye']\n",
      "['see', 'you', 'later']\n",
      "['goodby']\n",
      "['thank']\n",
      "['thank', 'you']\n",
      "['that', 'help']\n",
      "['thank', 'a', 'lot']\n",
      "['which', 'item', 'do', 'you', 'have']\n",
      "['what', 'kind', 'of', 'item', 'are', 'there']\n",
      "['what', 'do', 'you', 'sell']\n",
      "['do', 'you', 'take', 'credit', 'card']\n",
      "['do', 'you', 'accept', 'mastercard']\n",
      "['can', 'i', 'pay', 'with', 'paypal']\n",
      "['are', 'you', 'cash', 'onli']\n",
      "['how', 'long', 'doe', 'deliveri', 'take']\n",
      "['how', 'long', 'doe', 'ship', 'take']\n",
      "['when', 'do', 'i', 'get', 'my', 'deliveri']\n",
      "['tell', 'me', 'a', 'joke']\n",
      "['tell', 'me', 'someth', 'funni']\n",
      "['do', 'you', 'know', 'a', 'joke']\n",
      "AllWords :  ['a', 'accept', 'anyon', 'are', 'bye', 'can', 'card', 'cash', 'credit', 'day', 'deliveri', 'do', 'doe', 'funni', 'get', 'good', 'goodby', 'have', 'hello', 'help', 'hey', 'hi', 'how', 'i', 'is', 'item', 'joke', 'kind', 'know', 'later', 'long', 'lot', 'mastercard', 'me', 'my', 'of', 'onli', 'pay', 'paypal', 'see', 'sell', 'ship', 'someth', 'take', 'tell', 'thank', 'that', 'there', 'what', 'when', 'which', 'with', 'you']\n",
      "XY :  [(['hi'], 'greeting'), (['hey'], 'greeting'), (['how', 'are', 'you'], 'greeting'), (['is', 'anyon', 'there'], 'greeting'), (['hello'], 'greeting'), (['good', 'day'], 'greeting'), (['bye'], 'goodbye'), (['see', 'you', 'later'], 'goodbye'), (['goodby'], 'goodbye'), (['thank'], 'thanks'), (['thank', 'you'], 'thanks'), (['that', 'help'], 'thanks'), (['thank', 'a', 'lot'], 'thanks'), (['which', 'item', 'do', 'you', 'have'], 'items'), (['what', 'kind', 'of', 'item', 'are', 'there'], 'items'), (['what', 'do', 'you', 'sell'], 'items'), (['do', 'you', 'take', 'credit', 'card'], 'payments'), (['do', 'you', 'accept', 'mastercard'], 'payments'), (['can', 'i', 'pay', 'with', 'paypal'], 'payments'), (['are', 'you', 'cash', 'onli'], 'payments'), (['how', 'long', 'doe', 'deliveri', 'take'], 'delivery'), (['how', 'long', 'doe', 'ship', 'take'], 'delivery'), (['when', 'do', 'i', 'get', 'my', 'deliveri'], 'delivery'), (['tell', 'me', 'a', 'joke'], 'funny'), (['tell', 'me', 'someth', 'funni'], 'funny'), (['do', 'you', 'know', 'a', 'joke'], 'funny')]\n"
     ]
    }
   ],
   "source": [
    "for intent in intents[\"intents\"]:\n",
    "    Tag = intent[\"tag\"]\n",
    "    Tags.append(Tag)\n",
    "    for Pattern in intent[\"patterns\"]:\n",
    "        Words = Tokenize(Pattern)\n",
    "        Words = [LoweringStemming(Stem) for Stem in Words if(Stem not in [\"?\",\"!\",\".\",\",\",\"'s\"])]\n",
    "        AllWords.extend(Words)  #Words is a list\n",
    "        XY.append((Words,Tag))\n",
    "        print(Words)\n",
    "\n",
    "AllWords = sorted(set(AllWords)) #Set() for remove duplicate\n",
    "print(\"AllWords : \",AllWords)\n",
    "print(\"XY : \",XY)"
   ]
  },
  {
   "cell_type": "code",
   "execution_count": 36,
   "id": "d15d40a0-23a7-4cc1-b9d9-7690fc8eda08",
   "metadata": {},
   "outputs": [],
   "source": [
    "import numpy as np\n",
    "for (Pattern,Tag) in XY:\n",
    "    XTrain.append(BagOfWord(Pattern,AllWords))\n",
    "    YTrain.append(Tags.index(Tag))  \n",
    "XTrain = np.array(XTrain)\n",
    "YTrain = np.array(YTrain)"
   ]
  },
  {
   "cell_type": "code",
   "execution_count": 40,
   "id": "250d9d95-b2d0-4a6e-9973-6f2c2028ea6e",
   "metadata": {},
   "outputs": [
    {
     "data": {
      "text/plain": [
       "array([[0., 0., 0., ..., 0., 0., 0.],\n",
       "       [0., 0., 0., ..., 0., 0., 0.],\n",
       "       [0., 0., 0., ..., 0., 0., 1.],\n",
       "       ...,\n",
       "       [1., 0., 0., ..., 0., 0., 0.],\n",
       "       [0., 0., 0., ..., 0., 0., 0.],\n",
       "       [1., 0., 0., ..., 0., 0., 1.]], dtype=float32)"
      ]
     },
     "execution_count": 40,
     "metadata": {},
     "output_type": "execute_result"
    }
   ],
   "source": [
    "XTrain"
   ]
  },
  {
   "cell_type": "code",
   "execution_count": 38,
   "id": "59087afd-cd89-4f12-99a9-af79755752cd",
   "metadata": {},
   "outputs": [
    {
     "data": {
      "text/plain": [
       "array([0, 0, 0, 0, 0, 0, 1, 1, 1, 2, 2, 2, 2, 3, 3, 3, 4, 4, 4, 4, 5, 5,\n",
       "       5, 6, 6, 6])"
      ]
     },
     "execution_count": 38,
     "metadata": {},
     "output_type": "execute_result"
    }
   ],
   "source": [
    "YTrain"
   ]
  },
  {
   "cell_type": "code",
   "execution_count": null,
   "id": "3f1c6571-60c5-45be-af76-3f9c69df7fdb",
   "metadata": {},
   "outputs": [],
   "source": []
  }
 ],
 "metadata": {
  "kernelspec": {
   "display_name": "Python 3 (ipykernel)",
   "language": "python",
   "name": "python3"
  },
  "language_info": {
   "codemirror_mode": {
    "name": "ipython",
    "version": 3
   },
   "file_extension": ".py",
   "mimetype": "text/x-python",
   "name": "python",
   "nbconvert_exporter": "python",
   "pygments_lexer": "ipython3",
   "version": "3.12.4"
  }
 },
 "nbformat": 4,
 "nbformat_minor": 5
}
